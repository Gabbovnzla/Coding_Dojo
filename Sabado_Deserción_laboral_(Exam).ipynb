{
  "nbformat": 4,
  "nbformat_minor": 0,
  "metadata": {
    "colab": {
      "provenance": [],
      "mount_file_id": "1yIHDjKX3xDP-5Pdxj3kN87d2WVlvm1hW",
      "authorship_tag": "ABX9TyM5TPYzIRc8e7q3ihPXpwyS",
      "include_colab_link": true
    },
    "kernelspec": {
      "name": "python3",
      "display_name": "Python 3"
    },
    "language_info": {
      "name": "python"
    }
  },
  "cells": [
    {
      "cell_type": "markdown",
      "metadata": {
        "id": "view-in-github",
        "colab_type": "text"
      },
      "source": [
        "<a href=\"https://colab.research.google.com/github/Gabbovnzla/Coding_Dojo/blob/main/Sabado_Deserci%C3%B3n_laboral_(Exam).ipynb\" target=\"_parent\"><img src=\"https://colab.research.google.com/assets/colab-badge.svg\" alt=\"Open In Colab\"/></a>"
      ]
    },
    {
      "cell_type": "code",
      "execution_count": 97,
      "metadata": {
        "id": "9Wuit9DUL61g"
      },
      "outputs": [],
      "source": [
        "from google.colab import drive\n",
        "\n",
        "import pandas as pd\n",
        "import numpy as np\n",
        "\n",
        "import matplotlib.pyplot as plt\n",
        "import seaborn as sns"
      ]
    },
    {
      "cell_type": "code",
      "source": [
        "drive.mount('/content/drive')"
      ],
      "metadata": {
        "colab": {
          "base_uri": "https://localhost:8080/"
        },
        "id": "y3cr9YF9MPLw",
        "outputId": "2b30b57d-f750-4b41-ec6e-06032ee86780"
      },
      "execution_count": 98,
      "outputs": [
        {
          "output_type": "stream",
          "name": "stdout",
          "text": [
            "Drive already mounted at /content/drive; to attempt to forcibly remount, call drive.mount(\"/content/drive\", force_remount=True).\n"
          ]
        }
      ]
    },
    {
      "cell_type": "code",
      "source": [
        "desercion_laboral = (\"/content/drive/MyDrive/BOOTCAMP_CODING_DOJO(DATA_SCIENCE)/Mod_employee_attrition.xlsx\")\n",
        "df = pd.read_excel(desercion_laboral)"
      ],
      "metadata": {
        "id": "S92F127CMasW"
      },
      "execution_count": 99,
      "outputs": []
    },
    {
      "cell_type": "code",
      "source": [
        "df.shape #mostrar dimenciones (filas, columnas)"
      ],
      "metadata": {
        "colab": {
          "base_uri": "https://localhost:8080/"
        },
        "id": "yBPspK7VMm8q",
        "outputId": "bdd5ec2a-ab93-4cbe-d3d3-c02d9f208690"
      },
      "execution_count": 100,
      "outputs": [
        {
          "output_type": "execute_result",
          "data": {
            "text/plain": [
              "(1475, 35)"
            ]
          },
          "metadata": {},
          "execution_count": 100
        }
      ]
    },
    {
      "cell_type": "code",
      "source": [
        "df.shape[0] # cantidad de filas"
      ],
      "metadata": {
        "colab": {
          "base_uri": "https://localhost:8080/"
        },
        "id": "wwdTZ4cJMyJM",
        "outputId": "ce95f986-98a0-45e0-9a81-810aecd53283"
      },
      "execution_count": 101,
      "outputs": [
        {
          "output_type": "execute_result",
          "data": {
            "text/plain": [
              "1475"
            ]
          },
          "metadata": {},
          "execution_count": 101
        }
      ]
    },
    {
      "cell_type": "code",
      "source": [
        "df.shape[1] # cantidad de columnas"
      ],
      "metadata": {
        "colab": {
          "base_uri": "https://localhost:8080/"
        },
        "id": "D5ppYpSwM7qj",
        "outputId": "1edf5cdc-bacc-4f9a-c85f-4931a06f61d1"
      },
      "execution_count": 102,
      "outputs": [
        {
          "output_type": "execute_result",
          "data": {
            "text/plain": [
              "35"
            ]
          },
          "metadata": {},
          "execution_count": 102
        }
      ]
    },
    {
      "cell_type": "code",
      "source": [
        "df.head() # mostrando cabecera"
      ],
      "metadata": {
        "colab": {
          "base_uri": "https://localhost:8080/",
          "height": 325
        },
        "id": "X4QhBKkuNDI8",
        "outputId": "98cfdbc9-e3e2-43e2-c9b9-43f64640290a"
      },
      "execution_count": 103,
      "outputs": [
        {
          "output_type": "execute_result",
          "data": {
            "text/plain": [
              "   Age Attrition     BusinessTravel              Department  DistanceFromHome  \\\n",
              "0   41       Yes      Travel_Rarely                   Sales                 1   \n",
              "1   49        No  Travel_Frequently  Research & Development                 8   \n",
              "2   37       Yes      Travel_Rarely  Research & Development                 2   \n",
              "3   33        No  Travel_Frequently  Research & Development                 3   \n",
              "4   27        No      Travel_Rarely  Research & Development                 2   \n",
              "\n",
              "   Education EducationField  EmployeeCount  EmployeeNumber  \\\n",
              "0          2  Life Sciences              1               1   \n",
              "1          1  Life Sciences              1               2   \n",
              "2          2          Other              1               4   \n",
              "3          4  Life Sciences              1               5   \n",
              "4          1        Medical              1               7   \n",
              "\n",
              "   EnvironmentSatisfaction  ... RelationshipSatisfaction StandardHours  \\\n",
              "0                        2  ...                        1            80   \n",
              "1                        3  ...                        4            80   \n",
              "2                        4  ...                        2            80   \n",
              "3                        4  ...                        3            80   \n",
              "4                        1  ...                        4            80   \n",
              "\n",
              "   StockOptionLevel  TotalWorkingYears TrainingTimesLastYear  WorkLifeBalance  \\\n",
              "0                 0                  8                     0                1   \n",
              "1                 1                 10                     3                3   \n",
              "2                 0                  7                     3                3   \n",
              "3                 0                  8                     3                3   \n",
              "4                 1                  6                     3                3   \n",
              "\n",
              "  YearsAtCompany  YearsInCurrentRole  YearsSinceLastPromotion  \\\n",
              "0              6                   4                        0   \n",
              "1             10                   7                        1   \n",
              "2              0                   0                        0   \n",
              "3              8                   7                        3   \n",
              "4              2                   2                        2   \n",
              "\n",
              "   YearsWithCurrManager  \n",
              "0                     5  \n",
              "1                     7  \n",
              "2                     0  \n",
              "3                     0  \n",
              "4                     2  \n",
              "\n",
              "[5 rows x 35 columns]"
            ],
            "text/html": [
              "\n",
              "  <div id=\"df-c868b956-5947-4d79-a788-9f076b83ed73\" class=\"colab-df-container\">\n",
              "    <div>\n",
              "<style scoped>\n",
              "    .dataframe tbody tr th:only-of-type {\n",
              "        vertical-align: middle;\n",
              "    }\n",
              "\n",
              "    .dataframe tbody tr th {\n",
              "        vertical-align: top;\n",
              "    }\n",
              "\n",
              "    .dataframe thead th {\n",
              "        text-align: right;\n",
              "    }\n",
              "</style>\n",
              "<table border=\"1\" class=\"dataframe\">\n",
              "  <thead>\n",
              "    <tr style=\"text-align: right;\">\n",
              "      <th></th>\n",
              "      <th>Age</th>\n",
              "      <th>Attrition</th>\n",
              "      <th>BusinessTravel</th>\n",
              "      <th>Department</th>\n",
              "      <th>DistanceFromHome</th>\n",
              "      <th>Education</th>\n",
              "      <th>EducationField</th>\n",
              "      <th>EmployeeCount</th>\n",
              "      <th>EmployeeNumber</th>\n",
              "      <th>EnvironmentSatisfaction</th>\n",
              "      <th>...</th>\n",
              "      <th>RelationshipSatisfaction</th>\n",
              "      <th>StandardHours</th>\n",
              "      <th>StockOptionLevel</th>\n",
              "      <th>TotalWorkingYears</th>\n",
              "      <th>TrainingTimesLastYear</th>\n",
              "      <th>WorkLifeBalance</th>\n",
              "      <th>YearsAtCompany</th>\n",
              "      <th>YearsInCurrentRole</th>\n",
              "      <th>YearsSinceLastPromotion</th>\n",
              "      <th>YearsWithCurrManager</th>\n",
              "    </tr>\n",
              "  </thead>\n",
              "  <tbody>\n",
              "    <tr>\n",
              "      <th>0</th>\n",
              "      <td>41</td>\n",
              "      <td>Yes</td>\n",
              "      <td>Travel_Rarely</td>\n",
              "      <td>Sales</td>\n",
              "      <td>1</td>\n",
              "      <td>2</td>\n",
              "      <td>Life Sciences</td>\n",
              "      <td>1</td>\n",
              "      <td>1</td>\n",
              "      <td>2</td>\n",
              "      <td>...</td>\n",
              "      <td>1</td>\n",
              "      <td>80</td>\n",
              "      <td>0</td>\n",
              "      <td>8</td>\n",
              "      <td>0</td>\n",
              "      <td>1</td>\n",
              "      <td>6</td>\n",
              "      <td>4</td>\n",
              "      <td>0</td>\n",
              "      <td>5</td>\n",
              "    </tr>\n",
              "    <tr>\n",
              "      <th>1</th>\n",
              "      <td>49</td>\n",
              "      <td>No</td>\n",
              "      <td>Travel_Frequently</td>\n",
              "      <td>Research &amp; Development</td>\n",
              "      <td>8</td>\n",
              "      <td>1</td>\n",
              "      <td>Life Sciences</td>\n",
              "      <td>1</td>\n",
              "      <td>2</td>\n",
              "      <td>3</td>\n",
              "      <td>...</td>\n",
              "      <td>4</td>\n",
              "      <td>80</td>\n",
              "      <td>1</td>\n",
              "      <td>10</td>\n",
              "      <td>3</td>\n",
              "      <td>3</td>\n",
              "      <td>10</td>\n",
              "      <td>7</td>\n",
              "      <td>1</td>\n",
              "      <td>7</td>\n",
              "    </tr>\n",
              "    <tr>\n",
              "      <th>2</th>\n",
              "      <td>37</td>\n",
              "      <td>Yes</td>\n",
              "      <td>Travel_Rarely</td>\n",
              "      <td>Research &amp; Development</td>\n",
              "      <td>2</td>\n",
              "      <td>2</td>\n",
              "      <td>Other</td>\n",
              "      <td>1</td>\n",
              "      <td>4</td>\n",
              "      <td>4</td>\n",
              "      <td>...</td>\n",
              "      <td>2</td>\n",
              "      <td>80</td>\n",
              "      <td>0</td>\n",
              "      <td>7</td>\n",
              "      <td>3</td>\n",
              "      <td>3</td>\n",
              "      <td>0</td>\n",
              "      <td>0</td>\n",
              "      <td>0</td>\n",
              "      <td>0</td>\n",
              "    </tr>\n",
              "    <tr>\n",
              "      <th>3</th>\n",
              "      <td>33</td>\n",
              "      <td>No</td>\n",
              "      <td>Travel_Frequently</td>\n",
              "      <td>Research &amp; Development</td>\n",
              "      <td>3</td>\n",
              "      <td>4</td>\n",
              "      <td>Life Sciences</td>\n",
              "      <td>1</td>\n",
              "      <td>5</td>\n",
              "      <td>4</td>\n",
              "      <td>...</td>\n",
              "      <td>3</td>\n",
              "      <td>80</td>\n",
              "      <td>0</td>\n",
              "      <td>8</td>\n",
              "      <td>3</td>\n",
              "      <td>3</td>\n",
              "      <td>8</td>\n",
              "      <td>7</td>\n",
              "      <td>3</td>\n",
              "      <td>0</td>\n",
              "    </tr>\n",
              "    <tr>\n",
              "      <th>4</th>\n",
              "      <td>27</td>\n",
              "      <td>No</td>\n",
              "      <td>Travel_Rarely</td>\n",
              "      <td>Research &amp; Development</td>\n",
              "      <td>2</td>\n",
              "      <td>1</td>\n",
              "      <td>Medical</td>\n",
              "      <td>1</td>\n",
              "      <td>7</td>\n",
              "      <td>1</td>\n",
              "      <td>...</td>\n",
              "      <td>4</td>\n",
              "      <td>80</td>\n",
              "      <td>1</td>\n",
              "      <td>6</td>\n",
              "      <td>3</td>\n",
              "      <td>3</td>\n",
              "      <td>2</td>\n",
              "      <td>2</td>\n",
              "      <td>2</td>\n",
              "      <td>2</td>\n",
              "    </tr>\n",
              "  </tbody>\n",
              "</table>\n",
              "<p>5 rows × 35 columns</p>\n",
              "</div>\n",
              "    <div class=\"colab-df-buttons\">\n",
              "\n",
              "  <div class=\"colab-df-container\">\n",
              "    <button class=\"colab-df-convert\" onclick=\"convertToInteractive('df-c868b956-5947-4d79-a788-9f076b83ed73')\"\n",
              "            title=\"Convert this dataframe to an interactive table.\"\n",
              "            style=\"display:none;\">\n",
              "\n",
              "  <svg xmlns=\"http://www.w3.org/2000/svg\" height=\"24px\" viewBox=\"0 -960 960 960\">\n",
              "    <path d=\"M120-120v-720h720v720H120Zm60-500h600v-160H180v160Zm220 220h160v-160H400v160Zm0 220h160v-160H400v160ZM180-400h160v-160H180v160Zm440 0h160v-160H620v160ZM180-180h160v-160H180v160Zm440 0h160v-160H620v160Z\"/>\n",
              "  </svg>\n",
              "    </button>\n",
              "\n",
              "  <style>\n",
              "    .colab-df-container {\n",
              "      display:flex;\n",
              "      gap: 12px;\n",
              "    }\n",
              "\n",
              "    .colab-df-convert {\n",
              "      background-color: #E8F0FE;\n",
              "      border: none;\n",
              "      border-radius: 50%;\n",
              "      cursor: pointer;\n",
              "      display: none;\n",
              "      fill: #1967D2;\n",
              "      height: 32px;\n",
              "      padding: 0 0 0 0;\n",
              "      width: 32px;\n",
              "    }\n",
              "\n",
              "    .colab-df-convert:hover {\n",
              "      background-color: #E2EBFA;\n",
              "      box-shadow: 0px 1px 2px rgba(60, 64, 67, 0.3), 0px 1px 3px 1px rgba(60, 64, 67, 0.15);\n",
              "      fill: #174EA6;\n",
              "    }\n",
              "\n",
              "    .colab-df-buttons div {\n",
              "      margin-bottom: 4px;\n",
              "    }\n",
              "\n",
              "    [theme=dark] .colab-df-convert {\n",
              "      background-color: #3B4455;\n",
              "      fill: #D2E3FC;\n",
              "    }\n",
              "\n",
              "    [theme=dark] .colab-df-convert:hover {\n",
              "      background-color: #434B5C;\n",
              "      box-shadow: 0px 1px 3px 1px rgba(0, 0, 0, 0.15);\n",
              "      filter: drop-shadow(0px 1px 2px rgba(0, 0, 0, 0.3));\n",
              "      fill: #FFFFFF;\n",
              "    }\n",
              "  </style>\n",
              "\n",
              "    <script>\n",
              "      const buttonEl =\n",
              "        document.querySelector('#df-c868b956-5947-4d79-a788-9f076b83ed73 button.colab-df-convert');\n",
              "      buttonEl.style.display =\n",
              "        google.colab.kernel.accessAllowed ? 'block' : 'none';\n",
              "\n",
              "      async function convertToInteractive(key) {\n",
              "        const element = document.querySelector('#df-c868b956-5947-4d79-a788-9f076b83ed73');\n",
              "        const dataTable =\n",
              "          await google.colab.kernel.invokeFunction('convertToInteractive',\n",
              "                                                    [key], {});\n",
              "        if (!dataTable) return;\n",
              "\n",
              "        const docLinkHtml = 'Like what you see? Visit the ' +\n",
              "          '<a target=\"_blank\" href=https://colab.research.google.com/notebooks/data_table.ipynb>data table notebook</a>'\n",
              "          + ' to learn more about interactive tables.';\n",
              "        element.innerHTML = '';\n",
              "        dataTable['output_type'] = 'display_data';\n",
              "        await google.colab.output.renderOutput(dataTable, element);\n",
              "        const docLink = document.createElement('div');\n",
              "        docLink.innerHTML = docLinkHtml;\n",
              "        element.appendChild(docLink);\n",
              "      }\n",
              "    </script>\n",
              "  </div>\n",
              "\n",
              "\n",
              "<div id=\"df-843a9648-2faa-4b6d-83d2-485e2c510424\">\n",
              "  <button class=\"colab-df-quickchart\" onclick=\"quickchart('df-843a9648-2faa-4b6d-83d2-485e2c510424')\"\n",
              "            title=\"Suggest charts\"\n",
              "            style=\"display:none;\">\n",
              "\n",
              "<svg xmlns=\"http://www.w3.org/2000/svg\" height=\"24px\"viewBox=\"0 0 24 24\"\n",
              "     width=\"24px\">\n",
              "    <g>\n",
              "        <path d=\"M19 3H5c-1.1 0-2 .9-2 2v14c0 1.1.9 2 2 2h14c1.1 0 2-.9 2-2V5c0-1.1-.9-2-2-2zM9 17H7v-7h2v7zm4 0h-2V7h2v10zm4 0h-2v-4h2v4z\"/>\n",
              "    </g>\n",
              "</svg>\n",
              "  </button>\n",
              "\n",
              "<style>\n",
              "  .colab-df-quickchart {\n",
              "      --bg-color: #E8F0FE;\n",
              "      --fill-color: #1967D2;\n",
              "      --hover-bg-color: #E2EBFA;\n",
              "      --hover-fill-color: #174EA6;\n",
              "      --disabled-fill-color: #AAA;\n",
              "      --disabled-bg-color: #DDD;\n",
              "  }\n",
              "\n",
              "  [theme=dark] .colab-df-quickchart {\n",
              "      --bg-color: #3B4455;\n",
              "      --fill-color: #D2E3FC;\n",
              "      --hover-bg-color: #434B5C;\n",
              "      --hover-fill-color: #FFFFFF;\n",
              "      --disabled-bg-color: #3B4455;\n",
              "      --disabled-fill-color: #666;\n",
              "  }\n",
              "\n",
              "  .colab-df-quickchart {\n",
              "    background-color: var(--bg-color);\n",
              "    border: none;\n",
              "    border-radius: 50%;\n",
              "    cursor: pointer;\n",
              "    display: none;\n",
              "    fill: var(--fill-color);\n",
              "    height: 32px;\n",
              "    padding: 0;\n",
              "    width: 32px;\n",
              "  }\n",
              "\n",
              "  .colab-df-quickchart:hover {\n",
              "    background-color: var(--hover-bg-color);\n",
              "    box-shadow: 0 1px 2px rgba(60, 64, 67, 0.3), 0 1px 3px 1px rgba(60, 64, 67, 0.15);\n",
              "    fill: var(--button-hover-fill-color);\n",
              "  }\n",
              "\n",
              "  .colab-df-quickchart-complete:disabled,\n",
              "  .colab-df-quickchart-complete:disabled:hover {\n",
              "    background-color: var(--disabled-bg-color);\n",
              "    fill: var(--disabled-fill-color);\n",
              "    box-shadow: none;\n",
              "  }\n",
              "\n",
              "  .colab-df-spinner {\n",
              "    border: 2px solid var(--fill-color);\n",
              "    border-color: transparent;\n",
              "    border-bottom-color: var(--fill-color);\n",
              "    animation:\n",
              "      spin 1s steps(1) infinite;\n",
              "  }\n",
              "\n",
              "  @keyframes spin {\n",
              "    0% {\n",
              "      border-color: transparent;\n",
              "      border-bottom-color: var(--fill-color);\n",
              "      border-left-color: var(--fill-color);\n",
              "    }\n",
              "    20% {\n",
              "      border-color: transparent;\n",
              "      border-left-color: var(--fill-color);\n",
              "      border-top-color: var(--fill-color);\n",
              "    }\n",
              "    30% {\n",
              "      border-color: transparent;\n",
              "      border-left-color: var(--fill-color);\n",
              "      border-top-color: var(--fill-color);\n",
              "      border-right-color: var(--fill-color);\n",
              "    }\n",
              "    40% {\n",
              "      border-color: transparent;\n",
              "      border-right-color: var(--fill-color);\n",
              "      border-top-color: var(--fill-color);\n",
              "    }\n",
              "    60% {\n",
              "      border-color: transparent;\n",
              "      border-right-color: var(--fill-color);\n",
              "    }\n",
              "    80% {\n",
              "      border-color: transparent;\n",
              "      border-right-color: var(--fill-color);\n",
              "      border-bottom-color: var(--fill-color);\n",
              "    }\n",
              "    90% {\n",
              "      border-color: transparent;\n",
              "      border-bottom-color: var(--fill-color);\n",
              "    }\n",
              "  }\n",
              "</style>\n",
              "\n",
              "  <script>\n",
              "    async function quickchart(key) {\n",
              "      const quickchartButtonEl =\n",
              "        document.querySelector('#' + key + ' button');\n",
              "      quickchartButtonEl.disabled = true;  // To prevent multiple clicks.\n",
              "      quickchartButtonEl.classList.add('colab-df-spinner');\n",
              "      try {\n",
              "        const charts = await google.colab.kernel.invokeFunction(\n",
              "            'suggestCharts', [key], {});\n",
              "      } catch (error) {\n",
              "        console.error('Error during call to suggestCharts:', error);\n",
              "      }\n",
              "      quickchartButtonEl.classList.remove('colab-df-spinner');\n",
              "      quickchartButtonEl.classList.add('colab-df-quickchart-complete');\n",
              "    }\n",
              "    (() => {\n",
              "      let quickchartButtonEl =\n",
              "        document.querySelector('#df-843a9648-2faa-4b6d-83d2-485e2c510424 button');\n",
              "      quickchartButtonEl.style.display =\n",
              "        google.colab.kernel.accessAllowed ? 'block' : 'none';\n",
              "    })();\n",
              "  </script>\n",
              "</div>\n",
              "\n",
              "    </div>\n",
              "  </div>\n"
            ],
            "application/vnd.google.colaboratory.intrinsic+json": {
              "type": "dataframe",
              "variable_name": "df"
            }
          },
          "metadata": {},
          "execution_count": 103
        }
      ]
    },
    {
      "cell_type": "code",
      "source": [
        "df.info() # mostrando informacion detallada"
      ],
      "metadata": {
        "colab": {
          "base_uri": "https://localhost:8080/"
        },
        "id": "wzlBwiF3N5zS",
        "outputId": "63167228-d190-4c0d-f1ce-2cf14df7602e"
      },
      "execution_count": 104,
      "outputs": [
        {
          "output_type": "stream",
          "name": "stdout",
          "text": [
            "<class 'pandas.core.frame.DataFrame'>\n",
            "RangeIndex: 1475 entries, 0 to 1474\n",
            "Data columns (total 35 columns):\n",
            " #   Column                    Non-Null Count  Dtype \n",
            "---  ------                    --------------  ----- \n",
            " 0   Age                       1475 non-null   int64 \n",
            " 1   Attrition                 1475 non-null   object\n",
            " 2   BusinessTravel            1475 non-null   object\n",
            " 3   Department                1475 non-null   object\n",
            " 4   DistanceFromHome          1475 non-null   int64 \n",
            " 5   Education                 1475 non-null   int64 \n",
            " 6   EducationField            1475 non-null   object\n",
            " 7   EmployeeCount             1475 non-null   int64 \n",
            " 8   EmployeeNumber            1475 non-null   int64 \n",
            " 9   EnvironmentSatisfaction   1475 non-null   int64 \n",
            " 10  Gender                    590 non-null    object\n",
            " 11  HourlyRate                1475 non-null   object\n",
            " 12  JobInvolvement            1475 non-null   int64 \n",
            " 13  JobLevel                  1475 non-null   int64 \n",
            " 14  JobRole                   1475 non-null   object\n",
            " 15  JobSatisfaction           1475 non-null   int64 \n",
            " 16  MaritalStatus             1475 non-null   object\n",
            " 17  DailyRate                 1475 non-null   int64 \n",
            " 18  WeeklyRate                1475 non-null   int64 \n",
            " 19  YearlyRate                1475 non-null   int64 \n",
            " 20  NumCompaniesWorked        1475 non-null   int64 \n",
            " 21  Over18                    1475 non-null   object\n",
            " 22  OverTime                  1475 non-null   object\n",
            " 23  PercentSalaryHike         1475 non-null   int64 \n",
            " 24  PerformanceRating         1475 non-null   int64 \n",
            " 25  RelationshipSatisfaction  1475 non-null   int64 \n",
            " 26  StandardHours             1475 non-null   int64 \n",
            " 27  StockOptionLevel          1475 non-null   int64 \n",
            " 28  TotalWorkingYears         1475 non-null   int64 \n",
            " 29  TrainingTimesLastYear     1475 non-null   int64 \n",
            " 30  WorkLifeBalance           1475 non-null   int64 \n",
            " 31  YearsAtCompany            1475 non-null   object\n",
            " 32  YearsInCurrentRole        1475 non-null   int64 \n",
            " 33  YearsSinceLastPromotion   1475 non-null   int64 \n",
            " 34  YearsWithCurrManager      1475 non-null   int64 \n",
            "dtypes: int64(24), object(11)\n",
            "memory usage: 403.4+ KB\n"
          ]
        }
      ]
    },
    {
      "cell_type": "markdown",
      "source": [
        "##1. Ahora, damos un analisis de la base de datos"
      ],
      "metadata": {
        "id": "aFBSRMMUOYEI"
      }
    },
    {
      "cell_type": "markdown",
      "source": [
        "1.A) Identificar y abordar cualquier valor duplicado"
      ],
      "metadata": {
        "id": "Ph-FVgFROjA5"
      }
    },
    {
      "cell_type": "code",
      "source": [
        "df.duplicated()"
      ],
      "metadata": {
        "colab": {
          "base_uri": "https://localhost:8080/"
        },
        "id": "88LU9s5CPYPE",
        "outputId": "50790bb2-3138-497a-b6f9-1c024f5f49d5"
      },
      "execution_count": 105,
      "outputs": [
        {
          "output_type": "execute_result",
          "data": {
            "text/plain": [
              "0       False\n",
              "1       False\n",
              "2       False\n",
              "3       False\n",
              "4       False\n",
              "        ...  \n",
              "1470    False\n",
              "1471    False\n",
              "1472    False\n",
              "1473    False\n",
              "1474    False\n",
              "Length: 1475, dtype: bool"
            ]
          },
          "metadata": {},
          "execution_count": 105
        }
      ]
    },
    {
      "cell_type": "code",
      "source": [
        "duplicados = df[df.duplicated()]  # mostrandolos valores duplicados\n",
        "print(\"Valores duplicados:\")\n",
        "print(duplicados)"
      ],
      "metadata": {
        "colab": {
          "base_uri": "https://localhost:8080/"
        },
        "id": "jUz7euajO165",
        "outputId": "c394c8a8-cd2b-4f2a-ff48-c888cdae4d76"
      },
      "execution_count": 106,
      "outputs": [
        {
          "output_type": "stream",
          "name": "stdout",
          "text": [
            "Valores duplicados:\n",
            "      Age Attrition BusinessTravel              Department  DistanceFromHome  \\\n",
            "14     34        No  Travel_Rarely  Research & Development                19   \n",
            "159    58        No  Travel_Rarely  Research & Development                 9   \n",
            "625    32        No  Travel_Rarely                   Sales                13   \n",
            "815    38        No  Travel_Rarely                   Sales                 2   \n",
            "1145   44        No  Travel_Rarely  Research & Development                 7   \n",
            "\n",
            "      Education EducationField  EmployeeCount  EmployeeNumber  \\\n",
            "14            2        Medical              1              18   \n",
            "159           3        Medical              1             214   \n",
            "625           4  Life Sciences              1             859   \n",
            "815           2      Marketing              1            1125   \n",
            "1145          3        Medical              1            1608   \n",
            "\n",
            "      EnvironmentSatisfaction  ... RelationshipSatisfaction StandardHours  \\\n",
            "14                          2  ...                        3            80   \n",
            "159                         2  ...                        2            80   \n",
            "625                         2  ...                        3            80   \n",
            "815                         4  ...                        3            80   \n",
            "1145                        2  ...                        4            80   \n",
            "\n",
            "      StockOptionLevel  TotalWorkingYears TrainingTimesLastYear  \\\n",
            "14                   1                  3                     2   \n",
            "159                  1                  9                     3   \n",
            "625                  1                  8                     3   \n",
            "815                  0                 10                     2   \n",
            "1145                 1                 23                     4   \n",
            "\n",
            "      WorkLifeBalance YearsAtCompany  YearsInCurrentRole  \\\n",
            "14                  3              2                   2   \n",
            "159                 2              1                   0   \n",
            "625                 2              5                   2   \n",
            "815                 3              1                   0   \n",
            "1145                2             22                   7   \n",
            "\n",
            "      YearsSinceLastPromotion  YearsWithCurrManager  \n",
            "14                          1                     2  \n",
            "159                         0                     0  \n",
            "625                         0                     3  \n",
            "815                         0                     0  \n",
            "1145                        1                    10  \n",
            "\n",
            "[5 rows x 35 columns]\n"
          ]
        }
      ]
    },
    {
      "cell_type": "code",
      "source": [
        "df_sin_duplicados = df.drop_duplicates()  # eliminando los valores duplicados y mostrandolos valores sin duplicados\n",
        "print(\"Información sobre el DataFrame sin duplicados:\")\n",
        "print(df_sin_duplicados.info())"
      ],
      "metadata": {
        "colab": {
          "base_uri": "https://localhost:8080/"
        },
        "id": "0WLiTl6UPx_0",
        "outputId": "e8cafb60-d488-497d-d219-9d94c4b064fe"
      },
      "execution_count": 107,
      "outputs": [
        {
          "output_type": "stream",
          "name": "stdout",
          "text": [
            "Información sobre el DataFrame sin duplicados:\n",
            "<class 'pandas.core.frame.DataFrame'>\n",
            "Index: 1470 entries, 0 to 1474\n",
            "Data columns (total 35 columns):\n",
            " #   Column                    Non-Null Count  Dtype \n",
            "---  ------                    --------------  ----- \n",
            " 0   Age                       1470 non-null   int64 \n",
            " 1   Attrition                 1470 non-null   object\n",
            " 2   BusinessTravel            1470 non-null   object\n",
            " 3   Department                1470 non-null   object\n",
            " 4   DistanceFromHome          1470 non-null   int64 \n",
            " 5   Education                 1470 non-null   int64 \n",
            " 6   EducationField            1470 non-null   object\n",
            " 7   EmployeeCount             1470 non-null   int64 \n",
            " 8   EmployeeNumber            1470 non-null   int64 \n",
            " 9   EnvironmentSatisfaction   1470 non-null   int64 \n",
            " 10  Gender                    588 non-null    object\n",
            " 11  HourlyRate                1470 non-null   object\n",
            " 12  JobInvolvement            1470 non-null   int64 \n",
            " 13  JobLevel                  1470 non-null   int64 \n",
            " 14  JobRole                   1470 non-null   object\n",
            " 15  JobSatisfaction           1470 non-null   int64 \n",
            " 16  MaritalStatus             1470 non-null   object\n",
            " 17  DailyRate                 1470 non-null   int64 \n",
            " 18  WeeklyRate                1470 non-null   int64 \n",
            " 19  YearlyRate                1470 non-null   int64 \n",
            " 20  NumCompaniesWorked        1470 non-null   int64 \n",
            " 21  Over18                    1470 non-null   object\n",
            " 22  OverTime                  1470 non-null   object\n",
            " 23  PercentSalaryHike         1470 non-null   int64 \n",
            " 24  PerformanceRating         1470 non-null   int64 \n",
            " 25  RelationshipSatisfaction  1470 non-null   int64 \n",
            " 26  StandardHours             1470 non-null   int64 \n",
            " 27  StockOptionLevel          1470 non-null   int64 \n",
            " 28  TotalWorkingYears         1470 non-null   int64 \n",
            " 29  TrainingTimesLastYear     1470 non-null   int64 \n",
            " 30  WorkLifeBalance           1470 non-null   int64 \n",
            " 31  YearsAtCompany            1470 non-null   object\n",
            " 32  YearsInCurrentRole        1470 non-null   int64 \n",
            " 33  YearsSinceLastPromotion   1470 non-null   int64 \n",
            " 34  YearsWithCurrManager      1470 non-null   int64 \n",
            "dtypes: int64(24), object(11)\n",
            "memory usage: 413.4+ KB\n",
            "None\n"
          ]
        }
      ]
    },
    {
      "cell_type": "markdown",
      "source": [
        "1.B) Identifique y aborde los valores faltantes en este conjunto de datos. Trate estos adecuadamente. Incluya una breve descripción del método que utilizó para tratar los valores faltantes junto con una justificación para ese método."
      ],
      "metadata": {
        "id": "EOKK-dozRLRa"
      }
    },
    {
      "cell_type": "code",
      "source": [
        "valores_faltantes = df.isnull().sum() #Ientificamos con una dataframe los valores faltantes"
      ],
      "metadata": {
        "id": "3jqjukpPROGX"
      },
      "execution_count": 108,
      "outputs": []
    },
    {
      "cell_type": "code",
      "source": [
        "print(\"Valores faltantes por columna:\")  #se muestran valores faltantes\n",
        "print(valores_faltantes)"
      ],
      "metadata": {
        "colab": {
          "base_uri": "https://localhost:8080/"
        },
        "id": "ax3sMRh3RiPy",
        "outputId": "da4da8df-92cb-41d9-d44f-0e7546c04807"
      },
      "execution_count": 109,
      "outputs": [
        {
          "output_type": "stream",
          "name": "stdout",
          "text": [
            "Valores faltantes por columna:\n",
            "Age                           0\n",
            "Attrition                     0\n",
            "BusinessTravel                0\n",
            "Department                    0\n",
            "DistanceFromHome              0\n",
            "Education                     0\n",
            "EducationField                0\n",
            "EmployeeCount                 0\n",
            "EmployeeNumber                0\n",
            "EnvironmentSatisfaction       0\n",
            "Gender                      885\n",
            "HourlyRate                    0\n",
            "JobInvolvement                0\n",
            "JobLevel                      0\n",
            "JobRole                       0\n",
            "JobSatisfaction               0\n",
            "MaritalStatus                 0\n",
            "DailyRate                     0\n",
            "WeeklyRate                    0\n",
            "YearlyRate                    0\n",
            "NumCompaniesWorked            0\n",
            "Over18                        0\n",
            "OverTime                      0\n",
            "PercentSalaryHike             0\n",
            "PerformanceRating             0\n",
            "RelationshipSatisfaction      0\n",
            "StandardHours                 0\n",
            "StockOptionLevel              0\n",
            "TotalWorkingYears             0\n",
            "TrainingTimesLastYear         0\n",
            "WorkLifeBalance               0\n",
            "YearsAtCompany                0\n",
            "YearsInCurrentRole            0\n",
            "YearsSinceLastPromotion       0\n",
            "YearsWithCurrManager          0\n",
            "dtype: int64\n"
          ]
        }
      ]
    },
    {
      "cell_type": "markdown",
      "source": [
        "Ahora se han identificado en la columna del \"GENDER\" un valor de 885 valores por faltar"
      ],
      "metadata": {
        "id": "W-IvIjzYRqdz"
      }
    },
    {
      "cell_type": "markdown",
      "source": [
        "Ahora tenemos que tratar los valores faltantes. En mi caso utilizare el metodo dropna"
      ],
      "metadata": {
        "id": "_xkZn0R0SO2c"
      }
    },
    {
      "cell_type": "code",
      "source": [
        "df.isna().head() #antes mostramos valores true o false"
      ],
      "metadata": {
        "colab": {
          "base_uri": "https://localhost:8080/",
          "height": 255
        },
        "id": "KXJgxfMgSmZ7",
        "outputId": "d69776ba-49e0-45ed-e38f-a49593cf7879"
      },
      "execution_count": 110,
      "outputs": [
        {
          "output_type": "execute_result",
          "data": {
            "text/plain": [
              "     Age  Attrition  BusinessTravel  Department  DistanceFromHome  Education  \\\n",
              "0  False      False           False       False             False      False   \n",
              "1  False      False           False       False             False      False   \n",
              "2  False      False           False       False             False      False   \n",
              "3  False      False           False       False             False      False   \n",
              "4  False      False           False       False             False      False   \n",
              "\n",
              "   EducationField  EmployeeCount  EmployeeNumber  EnvironmentSatisfaction  \\\n",
              "0           False          False           False                    False   \n",
              "1           False          False           False                    False   \n",
              "2           False          False           False                    False   \n",
              "3           False          False           False                    False   \n",
              "4           False          False           False                    False   \n",
              "\n",
              "   ...  RelationshipSatisfaction  StandardHours  StockOptionLevel  \\\n",
              "0  ...                     False          False             False   \n",
              "1  ...                     False          False             False   \n",
              "2  ...                     False          False             False   \n",
              "3  ...                     False          False             False   \n",
              "4  ...                     False          False             False   \n",
              "\n",
              "   TotalWorkingYears  TrainingTimesLastYear  WorkLifeBalance  YearsAtCompany  \\\n",
              "0              False                  False            False           False   \n",
              "1              False                  False            False           False   \n",
              "2              False                  False            False           False   \n",
              "3              False                  False            False           False   \n",
              "4              False                  False            False           False   \n",
              "\n",
              "   YearsInCurrentRole  YearsSinceLastPromotion  YearsWithCurrManager  \n",
              "0               False                    False                 False  \n",
              "1               False                    False                 False  \n",
              "2               False                    False                 False  \n",
              "3               False                    False                 False  \n",
              "4               False                    False                 False  \n",
              "\n",
              "[5 rows x 35 columns]"
            ],
            "text/html": [
              "\n",
              "  <div id=\"df-13a232bc-be78-4c06-8036-cb3a7775cb9a\" class=\"colab-df-container\">\n",
              "    <div>\n",
              "<style scoped>\n",
              "    .dataframe tbody tr th:only-of-type {\n",
              "        vertical-align: middle;\n",
              "    }\n",
              "\n",
              "    .dataframe tbody tr th {\n",
              "        vertical-align: top;\n",
              "    }\n",
              "\n",
              "    .dataframe thead th {\n",
              "        text-align: right;\n",
              "    }\n",
              "</style>\n",
              "<table border=\"1\" class=\"dataframe\">\n",
              "  <thead>\n",
              "    <tr style=\"text-align: right;\">\n",
              "      <th></th>\n",
              "      <th>Age</th>\n",
              "      <th>Attrition</th>\n",
              "      <th>BusinessTravel</th>\n",
              "      <th>Department</th>\n",
              "      <th>DistanceFromHome</th>\n",
              "      <th>Education</th>\n",
              "      <th>EducationField</th>\n",
              "      <th>EmployeeCount</th>\n",
              "      <th>EmployeeNumber</th>\n",
              "      <th>EnvironmentSatisfaction</th>\n",
              "      <th>...</th>\n",
              "      <th>RelationshipSatisfaction</th>\n",
              "      <th>StandardHours</th>\n",
              "      <th>StockOptionLevel</th>\n",
              "      <th>TotalWorkingYears</th>\n",
              "      <th>TrainingTimesLastYear</th>\n",
              "      <th>WorkLifeBalance</th>\n",
              "      <th>YearsAtCompany</th>\n",
              "      <th>YearsInCurrentRole</th>\n",
              "      <th>YearsSinceLastPromotion</th>\n",
              "      <th>YearsWithCurrManager</th>\n",
              "    </tr>\n",
              "  </thead>\n",
              "  <tbody>\n",
              "    <tr>\n",
              "      <th>0</th>\n",
              "      <td>False</td>\n",
              "      <td>False</td>\n",
              "      <td>False</td>\n",
              "      <td>False</td>\n",
              "      <td>False</td>\n",
              "      <td>False</td>\n",
              "      <td>False</td>\n",
              "      <td>False</td>\n",
              "      <td>False</td>\n",
              "      <td>False</td>\n",
              "      <td>...</td>\n",
              "      <td>False</td>\n",
              "      <td>False</td>\n",
              "      <td>False</td>\n",
              "      <td>False</td>\n",
              "      <td>False</td>\n",
              "      <td>False</td>\n",
              "      <td>False</td>\n",
              "      <td>False</td>\n",
              "      <td>False</td>\n",
              "      <td>False</td>\n",
              "    </tr>\n",
              "    <tr>\n",
              "      <th>1</th>\n",
              "      <td>False</td>\n",
              "      <td>False</td>\n",
              "      <td>False</td>\n",
              "      <td>False</td>\n",
              "      <td>False</td>\n",
              "      <td>False</td>\n",
              "      <td>False</td>\n",
              "      <td>False</td>\n",
              "      <td>False</td>\n",
              "      <td>False</td>\n",
              "      <td>...</td>\n",
              "      <td>False</td>\n",
              "      <td>False</td>\n",
              "      <td>False</td>\n",
              "      <td>False</td>\n",
              "      <td>False</td>\n",
              "      <td>False</td>\n",
              "      <td>False</td>\n",
              "      <td>False</td>\n",
              "      <td>False</td>\n",
              "      <td>False</td>\n",
              "    </tr>\n",
              "    <tr>\n",
              "      <th>2</th>\n",
              "      <td>False</td>\n",
              "      <td>False</td>\n",
              "      <td>False</td>\n",
              "      <td>False</td>\n",
              "      <td>False</td>\n",
              "      <td>False</td>\n",
              "      <td>False</td>\n",
              "      <td>False</td>\n",
              "      <td>False</td>\n",
              "      <td>False</td>\n",
              "      <td>...</td>\n",
              "      <td>False</td>\n",
              "      <td>False</td>\n",
              "      <td>False</td>\n",
              "      <td>False</td>\n",
              "      <td>False</td>\n",
              "      <td>False</td>\n",
              "      <td>False</td>\n",
              "      <td>False</td>\n",
              "      <td>False</td>\n",
              "      <td>False</td>\n",
              "    </tr>\n",
              "    <tr>\n",
              "      <th>3</th>\n",
              "      <td>False</td>\n",
              "      <td>False</td>\n",
              "      <td>False</td>\n",
              "      <td>False</td>\n",
              "      <td>False</td>\n",
              "      <td>False</td>\n",
              "      <td>False</td>\n",
              "      <td>False</td>\n",
              "      <td>False</td>\n",
              "      <td>False</td>\n",
              "      <td>...</td>\n",
              "      <td>False</td>\n",
              "      <td>False</td>\n",
              "      <td>False</td>\n",
              "      <td>False</td>\n",
              "      <td>False</td>\n",
              "      <td>False</td>\n",
              "      <td>False</td>\n",
              "      <td>False</td>\n",
              "      <td>False</td>\n",
              "      <td>False</td>\n",
              "    </tr>\n",
              "    <tr>\n",
              "      <th>4</th>\n",
              "      <td>False</td>\n",
              "      <td>False</td>\n",
              "      <td>False</td>\n",
              "      <td>False</td>\n",
              "      <td>False</td>\n",
              "      <td>False</td>\n",
              "      <td>False</td>\n",
              "      <td>False</td>\n",
              "      <td>False</td>\n",
              "      <td>False</td>\n",
              "      <td>...</td>\n",
              "      <td>False</td>\n",
              "      <td>False</td>\n",
              "      <td>False</td>\n",
              "      <td>False</td>\n",
              "      <td>False</td>\n",
              "      <td>False</td>\n",
              "      <td>False</td>\n",
              "      <td>False</td>\n",
              "      <td>False</td>\n",
              "      <td>False</td>\n",
              "    </tr>\n",
              "  </tbody>\n",
              "</table>\n",
              "<p>5 rows × 35 columns</p>\n",
              "</div>\n",
              "    <div class=\"colab-df-buttons\">\n",
              "\n",
              "  <div class=\"colab-df-container\">\n",
              "    <button class=\"colab-df-convert\" onclick=\"convertToInteractive('df-13a232bc-be78-4c06-8036-cb3a7775cb9a')\"\n",
              "            title=\"Convert this dataframe to an interactive table.\"\n",
              "            style=\"display:none;\">\n",
              "\n",
              "  <svg xmlns=\"http://www.w3.org/2000/svg\" height=\"24px\" viewBox=\"0 -960 960 960\">\n",
              "    <path d=\"M120-120v-720h720v720H120Zm60-500h600v-160H180v160Zm220 220h160v-160H400v160Zm0 220h160v-160H400v160ZM180-400h160v-160H180v160Zm440 0h160v-160H620v160ZM180-180h160v-160H180v160Zm440 0h160v-160H620v160Z\"/>\n",
              "  </svg>\n",
              "    </button>\n",
              "\n",
              "  <style>\n",
              "    .colab-df-container {\n",
              "      display:flex;\n",
              "      gap: 12px;\n",
              "    }\n",
              "\n",
              "    .colab-df-convert {\n",
              "      background-color: #E8F0FE;\n",
              "      border: none;\n",
              "      border-radius: 50%;\n",
              "      cursor: pointer;\n",
              "      display: none;\n",
              "      fill: #1967D2;\n",
              "      height: 32px;\n",
              "      padding: 0 0 0 0;\n",
              "      width: 32px;\n",
              "    }\n",
              "\n",
              "    .colab-df-convert:hover {\n",
              "      background-color: #E2EBFA;\n",
              "      box-shadow: 0px 1px 2px rgba(60, 64, 67, 0.3), 0px 1px 3px 1px rgba(60, 64, 67, 0.15);\n",
              "      fill: #174EA6;\n",
              "    }\n",
              "\n",
              "    .colab-df-buttons div {\n",
              "      margin-bottom: 4px;\n",
              "    }\n",
              "\n",
              "    [theme=dark] .colab-df-convert {\n",
              "      background-color: #3B4455;\n",
              "      fill: #D2E3FC;\n",
              "    }\n",
              "\n",
              "    [theme=dark] .colab-df-convert:hover {\n",
              "      background-color: #434B5C;\n",
              "      box-shadow: 0px 1px 3px 1px rgba(0, 0, 0, 0.15);\n",
              "      filter: drop-shadow(0px 1px 2px rgba(0, 0, 0, 0.3));\n",
              "      fill: #FFFFFF;\n",
              "    }\n",
              "  </style>\n",
              "\n",
              "    <script>\n",
              "      const buttonEl =\n",
              "        document.querySelector('#df-13a232bc-be78-4c06-8036-cb3a7775cb9a button.colab-df-convert');\n",
              "      buttonEl.style.display =\n",
              "        google.colab.kernel.accessAllowed ? 'block' : 'none';\n",
              "\n",
              "      async function convertToInteractive(key) {\n",
              "        const element = document.querySelector('#df-13a232bc-be78-4c06-8036-cb3a7775cb9a');\n",
              "        const dataTable =\n",
              "          await google.colab.kernel.invokeFunction('convertToInteractive',\n",
              "                                                    [key], {});\n",
              "        if (!dataTable) return;\n",
              "\n",
              "        const docLinkHtml = 'Like what you see? Visit the ' +\n",
              "          '<a target=\"_blank\" href=https://colab.research.google.com/notebooks/data_table.ipynb>data table notebook</a>'\n",
              "          + ' to learn more about interactive tables.';\n",
              "        element.innerHTML = '';\n",
              "        dataTable['output_type'] = 'display_data';\n",
              "        await google.colab.output.renderOutput(dataTable, element);\n",
              "        const docLink = document.createElement('div');\n",
              "        docLink.innerHTML = docLinkHtml;\n",
              "        element.appendChild(docLink);\n",
              "      }\n",
              "    </script>\n",
              "  </div>\n",
              "\n",
              "\n",
              "<div id=\"df-7322bd02-6e66-4e32-baff-a29d89314649\">\n",
              "  <button class=\"colab-df-quickchart\" onclick=\"quickchart('df-7322bd02-6e66-4e32-baff-a29d89314649')\"\n",
              "            title=\"Suggest charts\"\n",
              "            style=\"display:none;\">\n",
              "\n",
              "<svg xmlns=\"http://www.w3.org/2000/svg\" height=\"24px\"viewBox=\"0 0 24 24\"\n",
              "     width=\"24px\">\n",
              "    <g>\n",
              "        <path d=\"M19 3H5c-1.1 0-2 .9-2 2v14c0 1.1.9 2 2 2h14c1.1 0 2-.9 2-2V5c0-1.1-.9-2-2-2zM9 17H7v-7h2v7zm4 0h-2V7h2v10zm4 0h-2v-4h2v4z\"/>\n",
              "    </g>\n",
              "</svg>\n",
              "  </button>\n",
              "\n",
              "<style>\n",
              "  .colab-df-quickchart {\n",
              "      --bg-color: #E8F0FE;\n",
              "      --fill-color: #1967D2;\n",
              "      --hover-bg-color: #E2EBFA;\n",
              "      --hover-fill-color: #174EA6;\n",
              "      --disabled-fill-color: #AAA;\n",
              "      --disabled-bg-color: #DDD;\n",
              "  }\n",
              "\n",
              "  [theme=dark] .colab-df-quickchart {\n",
              "      --bg-color: #3B4455;\n",
              "      --fill-color: #D2E3FC;\n",
              "      --hover-bg-color: #434B5C;\n",
              "      --hover-fill-color: #FFFFFF;\n",
              "      --disabled-bg-color: #3B4455;\n",
              "      --disabled-fill-color: #666;\n",
              "  }\n",
              "\n",
              "  .colab-df-quickchart {\n",
              "    background-color: var(--bg-color);\n",
              "    border: none;\n",
              "    border-radius: 50%;\n",
              "    cursor: pointer;\n",
              "    display: none;\n",
              "    fill: var(--fill-color);\n",
              "    height: 32px;\n",
              "    padding: 0;\n",
              "    width: 32px;\n",
              "  }\n",
              "\n",
              "  .colab-df-quickchart:hover {\n",
              "    background-color: var(--hover-bg-color);\n",
              "    box-shadow: 0 1px 2px rgba(60, 64, 67, 0.3), 0 1px 3px 1px rgba(60, 64, 67, 0.15);\n",
              "    fill: var(--button-hover-fill-color);\n",
              "  }\n",
              "\n",
              "  .colab-df-quickchart-complete:disabled,\n",
              "  .colab-df-quickchart-complete:disabled:hover {\n",
              "    background-color: var(--disabled-bg-color);\n",
              "    fill: var(--disabled-fill-color);\n",
              "    box-shadow: none;\n",
              "  }\n",
              "\n",
              "  .colab-df-spinner {\n",
              "    border: 2px solid var(--fill-color);\n",
              "    border-color: transparent;\n",
              "    border-bottom-color: var(--fill-color);\n",
              "    animation:\n",
              "      spin 1s steps(1) infinite;\n",
              "  }\n",
              "\n",
              "  @keyframes spin {\n",
              "    0% {\n",
              "      border-color: transparent;\n",
              "      border-bottom-color: var(--fill-color);\n",
              "      border-left-color: var(--fill-color);\n",
              "    }\n",
              "    20% {\n",
              "      border-color: transparent;\n",
              "      border-left-color: var(--fill-color);\n",
              "      border-top-color: var(--fill-color);\n",
              "    }\n",
              "    30% {\n",
              "      border-color: transparent;\n",
              "      border-left-color: var(--fill-color);\n",
              "      border-top-color: var(--fill-color);\n",
              "      border-right-color: var(--fill-color);\n",
              "    }\n",
              "    40% {\n",
              "      border-color: transparent;\n",
              "      border-right-color: var(--fill-color);\n",
              "      border-top-color: var(--fill-color);\n",
              "    }\n",
              "    60% {\n",
              "      border-color: transparent;\n",
              "      border-right-color: var(--fill-color);\n",
              "    }\n",
              "    80% {\n",
              "      border-color: transparent;\n",
              "      border-right-color: var(--fill-color);\n",
              "      border-bottom-color: var(--fill-color);\n",
              "    }\n",
              "    90% {\n",
              "      border-color: transparent;\n",
              "      border-bottom-color: var(--fill-color);\n",
              "    }\n",
              "  }\n",
              "</style>\n",
              "\n",
              "  <script>\n",
              "    async function quickchart(key) {\n",
              "      const quickchartButtonEl =\n",
              "        document.querySelector('#' + key + ' button');\n",
              "      quickchartButtonEl.disabled = true;  // To prevent multiple clicks.\n",
              "      quickchartButtonEl.classList.add('colab-df-spinner');\n",
              "      try {\n",
              "        const charts = await google.colab.kernel.invokeFunction(\n",
              "            'suggestCharts', [key], {});\n",
              "      } catch (error) {\n",
              "        console.error('Error during call to suggestCharts:', error);\n",
              "      }\n",
              "      quickchartButtonEl.classList.remove('colab-df-spinner');\n",
              "      quickchartButtonEl.classList.add('colab-df-quickchart-complete');\n",
              "    }\n",
              "    (() => {\n",
              "      let quickchartButtonEl =\n",
              "        document.querySelector('#df-7322bd02-6e66-4e32-baff-a29d89314649 button');\n",
              "      quickchartButtonEl.style.display =\n",
              "        google.colab.kernel.accessAllowed ? 'block' : 'none';\n",
              "    })();\n",
              "  </script>\n",
              "</div>\n",
              "\n",
              "    </div>\n",
              "  </div>\n"
            ],
            "application/vnd.google.colaboratory.intrinsic+json": {
              "type": "dataframe"
            }
          },
          "metadata": {},
          "execution_count": 110
        }
      ]
    },
    {
      "cell_type": "code",
      "source": [
        "df.isnull().sum().sum()   #mostrando el total de datos faltanes en la fila del genero"
      ],
      "metadata": {
        "colab": {
          "base_uri": "https://localhost:8080/"
        },
        "id": "9r5mndUCXH1b",
        "outputId": "ddd593f8-8741-4018-aeea-00876f6c171d"
      },
      "execution_count": 111,
      "outputs": [
        {
          "output_type": "execute_result",
          "data": {
            "text/plain": [
              "885"
            ]
          },
          "metadata": {},
          "execution_count": 111
        }
      ]
    },
    {
      "cell_type": "code",
      "source": [
        "df.isnull().any() #aplicamos la funcion \"any\"  #YouTube = Google colab y ejemplo con dataset con Python - Fuente: JOSE OJEDA ROJAS"
      ],
      "metadata": {
        "colab": {
          "base_uri": "https://localhost:8080/"
        },
        "id": "yL8I8Qlnam28",
        "outputId": "1a76a5ea-7945-4cc8-fa16-0eb7adee3725"
      },
      "execution_count": 112,
      "outputs": [
        {
          "output_type": "execute_result",
          "data": {
            "text/plain": [
              "Age                         False\n",
              "Attrition                   False\n",
              "BusinessTravel              False\n",
              "Department                  False\n",
              "DistanceFromHome            False\n",
              "Education                   False\n",
              "EducationField              False\n",
              "EmployeeCount               False\n",
              "EmployeeNumber              False\n",
              "EnvironmentSatisfaction     False\n",
              "Gender                       True\n",
              "HourlyRate                  False\n",
              "JobInvolvement              False\n",
              "JobLevel                    False\n",
              "JobRole                     False\n",
              "JobSatisfaction             False\n",
              "MaritalStatus               False\n",
              "DailyRate                   False\n",
              "WeeklyRate                  False\n",
              "YearlyRate                  False\n",
              "NumCompaniesWorked          False\n",
              "Over18                      False\n",
              "OverTime                    False\n",
              "PercentSalaryHike           False\n",
              "PerformanceRating           False\n",
              "RelationshipSatisfaction    False\n",
              "StandardHours               False\n",
              "StockOptionLevel            False\n",
              "TotalWorkingYears           False\n",
              "TrainingTimesLastYear       False\n",
              "WorkLifeBalance             False\n",
              "YearsAtCompany              False\n",
              "YearsInCurrentRole          False\n",
              "YearsSinceLastPromotion     False\n",
              "YearsWithCurrManager        False\n",
              "dtype: bool"
            ]
          },
          "metadata": {},
          "execution_count": 112
        }
      ]
    },
    {
      "cell_type": "code",
      "source": [
        "df_sin_faltantes = df.dropna(how=\"any\") #eliminamos las filas con valores faltantes"
      ],
      "metadata": {
        "id": "gRJjEJ0LavJb"
      },
      "execution_count": 113,
      "outputs": []
    },
    {
      "cell_type": "code",
      "source": [
        "df_sin_faltantes.isnull().sum()"
      ],
      "metadata": {
        "colab": {
          "base_uri": "https://localhost:8080/"
        },
        "id": "4d8EpfOObDqc",
        "outputId": "ea0f788a-5b2f-42a8-8599-eb351b0cff81"
      },
      "execution_count": 114,
      "outputs": [
        {
          "output_type": "execute_result",
          "data": {
            "text/plain": [
              "Age                         0\n",
              "Attrition                   0\n",
              "BusinessTravel              0\n",
              "Department                  0\n",
              "DistanceFromHome            0\n",
              "Education                   0\n",
              "EducationField              0\n",
              "EmployeeCount               0\n",
              "EmployeeNumber              0\n",
              "EnvironmentSatisfaction     0\n",
              "Gender                      0\n",
              "HourlyRate                  0\n",
              "JobInvolvement              0\n",
              "JobLevel                    0\n",
              "JobRole                     0\n",
              "JobSatisfaction             0\n",
              "MaritalStatus               0\n",
              "DailyRate                   0\n",
              "WeeklyRate                  0\n",
              "YearlyRate                  0\n",
              "NumCompaniesWorked          0\n",
              "Over18                      0\n",
              "OverTime                    0\n",
              "PercentSalaryHike           0\n",
              "PerformanceRating           0\n",
              "RelationshipSatisfaction    0\n",
              "StandardHours               0\n",
              "StockOptionLevel            0\n",
              "TotalWorkingYears           0\n",
              "TrainingTimesLastYear       0\n",
              "WorkLifeBalance             0\n",
              "YearsAtCompany              0\n",
              "YearsInCurrentRole          0\n",
              "YearsSinceLastPromotion     0\n",
              "YearsWithCurrManager        0\n",
              "dtype: int64"
            ]
          },
          "metadata": {},
          "execution_count": 114
        }
      ]
    },
    {
      "cell_type": "markdown",
      "source": [
        "Ahora mostramos la anterior con shape y la actual con shape, donde se observaran los valores nulos y sin nulos"
      ],
      "metadata": {
        "id": "Nu1EcVnMbuhL"
      }
    },
    {
      "cell_type": "code",
      "source": [
        "df.shape"
      ],
      "metadata": {
        "colab": {
          "base_uri": "https://localhost:8080/"
        },
        "id": "54aKWPQVbkjQ",
        "outputId": "96bbec0c-25e9-4303-aa4f-7c4524c61f2a"
      },
      "execution_count": 115,
      "outputs": [
        {
          "output_type": "execute_result",
          "data": {
            "text/plain": [
              "(1475, 35)"
            ]
          },
          "metadata": {},
          "execution_count": 115
        }
      ]
    },
    {
      "cell_type": "code",
      "source": [
        "df_sin_faltantes.shape"
      ],
      "metadata": {
        "colab": {
          "base_uri": "https://localhost:8080/"
        },
        "id": "_pWIXwxlbmzY",
        "outputId": "b5996bfe-d3c6-4039-e28b-b52365fa374b"
      },
      "execution_count": 116,
      "outputs": [
        {
          "output_type": "execute_result",
          "data": {
            "text/plain": [
              "(590, 35)"
            ]
          },
          "metadata": {},
          "execution_count": 116
        }
      ]
    },
    {
      "cell_type": "markdown",
      "source": [
        "1.C) Asegúrese de que todas las columnas coincidan con los tipos de datos enumerados en el diccionario de datos."
      ],
      "metadata": {
        "id": "5xbk-8rTcXb9"
      }
    },
    {
      "cell_type": "code",
      "source": [
        "tipos_de_datos_actuales = df.dtypes #verificando los tipos de datos que existen en el data\n",
        "print(\"Tipos de datos actuales:\")\n",
        "print(tipos_de_datos_actuales)"
      ],
      "metadata": {
        "colab": {
          "base_uri": "https://localhost:8080/"
        },
        "id": "yW3PUfrUcaID",
        "outputId": "a127ddbe-de53-4de6-e616-b84b6e5b88d2"
      },
      "execution_count": 117,
      "outputs": [
        {
          "output_type": "stream",
          "name": "stdout",
          "text": [
            "Tipos de datos actuales:\n",
            "Age                          int64\n",
            "Attrition                   object\n",
            "BusinessTravel              object\n",
            "Department                  object\n",
            "DistanceFromHome             int64\n",
            "Education                    int64\n",
            "EducationField              object\n",
            "EmployeeCount                int64\n",
            "EmployeeNumber               int64\n",
            "EnvironmentSatisfaction      int64\n",
            "Gender                      object\n",
            "HourlyRate                  object\n",
            "JobInvolvement               int64\n",
            "JobLevel                     int64\n",
            "JobRole                     object\n",
            "JobSatisfaction              int64\n",
            "MaritalStatus               object\n",
            "DailyRate                    int64\n",
            "WeeklyRate                   int64\n",
            "YearlyRate                   int64\n",
            "NumCompaniesWorked           int64\n",
            "Over18                      object\n",
            "OverTime                    object\n",
            "PercentSalaryHike            int64\n",
            "PerformanceRating            int64\n",
            "RelationshipSatisfaction     int64\n",
            "StandardHours                int64\n",
            "StockOptionLevel             int64\n",
            "TotalWorkingYears            int64\n",
            "TrainingTimesLastYear        int64\n",
            "WorkLifeBalance              int64\n",
            "YearsAtCompany              object\n",
            "YearsInCurrentRole           int64\n",
            "YearsSinceLastPromotion      int64\n",
            "YearsWithCurrManager         int64\n",
            "dtype: object\n"
          ]
        }
      ]
    },
    {
      "cell_type": "code",
      "source": [
        "df.dtypes"
      ],
      "metadata": {
        "colab": {
          "base_uri": "https://localhost:8080/"
        },
        "id": "8n8R1nVyiT9p",
        "outputId": "1c63e86c-693f-487f-f1f2-d5ffaaf9fdde"
      },
      "execution_count": 118,
      "outputs": [
        {
          "output_type": "execute_result",
          "data": {
            "text/plain": [
              "Age                          int64\n",
              "Attrition                   object\n",
              "BusinessTravel              object\n",
              "Department                  object\n",
              "DistanceFromHome             int64\n",
              "Education                    int64\n",
              "EducationField              object\n",
              "EmployeeCount                int64\n",
              "EmployeeNumber               int64\n",
              "EnvironmentSatisfaction      int64\n",
              "Gender                      object\n",
              "HourlyRate                  object\n",
              "JobInvolvement               int64\n",
              "JobLevel                     int64\n",
              "JobRole                     object\n",
              "JobSatisfaction              int64\n",
              "MaritalStatus               object\n",
              "DailyRate                    int64\n",
              "WeeklyRate                   int64\n",
              "YearlyRate                   int64\n",
              "NumCompaniesWorked           int64\n",
              "Over18                      object\n",
              "OverTime                    object\n",
              "PercentSalaryHike            int64\n",
              "PerformanceRating            int64\n",
              "RelationshipSatisfaction     int64\n",
              "StandardHours                int64\n",
              "StockOptionLevel             int64\n",
              "TotalWorkingYears            int64\n",
              "TrainingTimesLastYear        int64\n",
              "WorkLifeBalance              int64\n",
              "YearsAtCompany              object\n",
              "YearsInCurrentRole           int64\n",
              "YearsSinceLastPromotion      int64\n",
              "YearsWithCurrManager         int64\n",
              "dtype: object"
            ]
          },
          "metadata": {},
          "execution_count": 118
        }
      ]
    },
    {
      "cell_type": "code",
      "source": [
        "df.info()"
      ],
      "metadata": {
        "colab": {
          "base_uri": "https://localhost:8080/"
        },
        "id": "oE5D9-yGjGvw",
        "outputId": "5bff1694-1135-4389-8485-af2a7ede321d"
      },
      "execution_count": 119,
      "outputs": [
        {
          "output_type": "stream",
          "name": "stdout",
          "text": [
            "<class 'pandas.core.frame.DataFrame'>\n",
            "RangeIndex: 1475 entries, 0 to 1474\n",
            "Data columns (total 35 columns):\n",
            " #   Column                    Non-Null Count  Dtype \n",
            "---  ------                    --------------  ----- \n",
            " 0   Age                       1475 non-null   int64 \n",
            " 1   Attrition                 1475 non-null   object\n",
            " 2   BusinessTravel            1475 non-null   object\n",
            " 3   Department                1475 non-null   object\n",
            " 4   DistanceFromHome          1475 non-null   int64 \n",
            " 5   Education                 1475 non-null   int64 \n",
            " 6   EducationField            1475 non-null   object\n",
            " 7   EmployeeCount             1475 non-null   int64 \n",
            " 8   EmployeeNumber            1475 non-null   int64 \n",
            " 9   EnvironmentSatisfaction   1475 non-null   int64 \n",
            " 10  Gender                    590 non-null    object\n",
            " 11  HourlyRate                1475 non-null   object\n",
            " 12  JobInvolvement            1475 non-null   int64 \n",
            " 13  JobLevel                  1475 non-null   int64 \n",
            " 14  JobRole                   1475 non-null   object\n",
            " 15  JobSatisfaction           1475 non-null   int64 \n",
            " 16  MaritalStatus             1475 non-null   object\n",
            " 17  DailyRate                 1475 non-null   int64 \n",
            " 18  WeeklyRate                1475 non-null   int64 \n",
            " 19  YearlyRate                1475 non-null   int64 \n",
            " 20  NumCompaniesWorked        1475 non-null   int64 \n",
            " 21  Over18                    1475 non-null   object\n",
            " 22  OverTime                  1475 non-null   object\n",
            " 23  PercentSalaryHike         1475 non-null   int64 \n",
            " 24  PerformanceRating         1475 non-null   int64 \n",
            " 25  RelationshipSatisfaction  1475 non-null   int64 \n",
            " 26  StandardHours             1475 non-null   int64 \n",
            " 27  StockOptionLevel          1475 non-null   int64 \n",
            " 28  TotalWorkingYears         1475 non-null   int64 \n",
            " 29  TrainingTimesLastYear     1475 non-null   int64 \n",
            " 30  WorkLifeBalance           1475 non-null   int64 \n",
            " 31  YearsAtCompany            1475 non-null   object\n",
            " 32  YearsInCurrentRole        1475 non-null   int64 \n",
            " 33  YearsSinceLastPromotion   1475 non-null   int64 \n",
            " 34  YearsWithCurrManager      1475 non-null   int64 \n",
            "dtypes: int64(24), object(11)\n",
            "memory usage: 403.4+ KB\n"
          ]
        }
      ]
    },
    {
      "cell_type": "markdown",
      "source": [
        "1.D) Identificar y abordar cualquier inconsistencia en los valores categóricos (ejemplo: gato, Gato, gatos)"
      ],
      "metadata": {
        "id": "LK5dVAWCjUDN"
      }
    },
    {
      "cell_type": "markdown",
      "source": [
        "1.E) Identifique y aborde cualquier punto de datos inapropiado o inusual (ejemplo: la edad no puede ser 325)"
      ],
      "metadata": {
        "id": "8KBLY1qJGZsw"
      }
    },
    {
      "cell_type": "markdown",
      "source": [
        "Primero veremos que contiene cada columna dentro de ella. Aplicando unique()"
      ],
      "metadata": {
        "id": "qaAEDS8BH8kJ"
      }
    },
    {
      "cell_type": "code",
      "source": [
        "df.Age.unique()"
      ],
      "metadata": {
        "colab": {
          "base_uri": "https://localhost:8080/"
        },
        "id": "AScVw3EmCSvY",
        "outputId": "f00d37b6-c181-4819-ae78-97a47ce83d8b"
      },
      "execution_count": 121,
      "outputs": [
        {
          "output_type": "execute_result",
          "data": {
            "text/plain": [
              "array([ 41,  49,  37,  33,  27,  32,  59,  30,  38,  36,  35,  29,  31,\n",
              "        34,  28,  22,  53,  24,  21,  42,  44,  46,  39,  43,  50,  26,\n",
              "        48,  55,  45,  56,  23,  51,  40,  54, 578,  20,  25,  58,  19,\n",
              "        57,  52,  47,  18,  60])"
            ]
          },
          "metadata": {},
          "execution_count": 121
        }
      ]
    },
    {
      "cell_type": "code",
      "source": [
        "puntos_inapropiados = df[df['Age'] >90]  #aplicaos filtros de la edad no mayor a noventa años de edad\n",
        "print(\"Puntos de datos inapropiados:\")\n",
        "print(puntos_inapropiados)"
      ],
      "metadata": {
        "colab": {
          "base_uri": "https://localhost:8080/"
        },
        "id": "5wswYrG-IIA6",
        "outputId": "908fad19-5f1b-4c7c-867f-3084617bd492"
      },
      "execution_count": 164,
      "outputs": [
        {
          "output_type": "stream",
          "name": "stdout",
          "text": [
            "Puntos de datos inapropiados:\n",
            "    Age Attrition BusinessTravel Department  DistanceFromHome  Education  \\\n",
            "99  578        No  Travel_Rarely      Sales                10          4   \n",
            "\n",
            "   EducationField  EmployeeCount  EmployeeNumber  EnvironmentSatisfaction  \\\n",
            "99        Medical              1             131                        4   \n",
            "\n",
            "    ... RelationshipSatisfaction StandardHours  StockOptionLevel  \\\n",
            "99  ...                        3            80                 0   \n",
            "\n",
            "    TotalWorkingYears TrainingTimesLastYear  WorkLifeBalance YearsAtCompany  \\\n",
            "99                 38                     1                2             37   \n",
            "\n",
            "    YearsInCurrentRole  YearsSinceLastPromotion  YearsWithCurrManager  \n",
            "99                  10                        1                     8  \n",
            "\n",
            "[1 rows x 35 columns]\n"
          ]
        }
      ]
    },
    {
      "cell_type": "code",
      "source": [
        "df.Attrition.unique()"
      ],
      "metadata": {
        "colab": {
          "base_uri": "https://localhost:8080/"
        },
        "id": "ekbuHcnjEjuA",
        "outputId": "3fb757ff-cab5-4a13-946a-1f688d1d51aa"
      },
      "execution_count": 122,
      "outputs": [
        {
          "output_type": "execute_result",
          "data": {
            "text/plain": [
              "array(['Yes', 'No'], dtype=object)"
            ]
          },
          "metadata": {},
          "execution_count": 122
        }
      ]
    },
    {
      "cell_type": "code",
      "source": [
        "df.Department.unique()"
      ],
      "metadata": {
        "colab": {
          "base_uri": "https://localhost:8080/"
        },
        "id": "DLpwlxsUEyy4",
        "outputId": "aeb866f7-677f-4ff2-f41d-002e8143bbc9"
      },
      "execution_count": 152,
      "outputs": [
        {
          "output_type": "execute_result",
          "data": {
            "text/plain": [
              "array(['Sales', 'Research & Development', 'Human Resources'], dtype=object)"
            ]
          },
          "metadata": {},
          "execution_count": 152
        }
      ]
    },
    {
      "cell_type": "code",
      "source": [
        "df.DistanceFromHome.unique()"
      ],
      "metadata": {
        "colab": {
          "base_uri": "https://localhost:8080/"
        },
        "id": "j9y0lNnTE5Gg",
        "outputId": "05d24a24-1c45-4412-c663-722009fcec36"
      },
      "execution_count": 153,
      "outputs": [
        {
          "output_type": "execute_result",
          "data": {
            "text/plain": [
              "array([ 1,  8,  2,  3, 24, 23, 27, 16, 15, 26, 19, 21,  5, 11,  9,  7,  6,\n",
              "       10,  4, 25, 12, 18, 29, 22, 14, 20, 28, 17, 13])"
            ]
          },
          "metadata": {},
          "execution_count": 153
        }
      ]
    },
    {
      "cell_type": "code",
      "source": [
        "df.Education.unique()"
      ],
      "metadata": {
        "colab": {
          "base_uri": "https://localhost:8080/"
        },
        "id": "obFctShwE8Kv",
        "outputId": "f8054c5b-84b0-4b4f-f04b-906c12db2646"
      },
      "execution_count": 125,
      "outputs": [
        {
          "output_type": "execute_result",
          "data": {
            "text/plain": [
              "array([2, 1, 4, 3, 5])"
            ]
          },
          "metadata": {},
          "execution_count": 125
        }
      ]
    },
    {
      "cell_type": "code",
      "source": [
        "df.EducationField.unique()"
      ],
      "metadata": {
        "colab": {
          "base_uri": "https://localhost:8080/"
        },
        "id": "6ynHBiAQE_RX",
        "outputId": "92c51524-4de8-4d1b-9deb-786c7b5c897f"
      },
      "execution_count": 154,
      "outputs": [
        {
          "output_type": "execute_result",
          "data": {
            "text/plain": [
              "array(['Life Sciences', 'Other', 'Medical', 'Marketing',\n",
              "       'Technical Degree', 'Human Resources'], dtype=object)"
            ]
          },
          "metadata": {},
          "execution_count": 154
        }
      ]
    },
    {
      "cell_type": "code",
      "source": [
        "df.EmployeeCount.unique()"
      ],
      "metadata": {
        "colab": {
          "base_uri": "https://localhost:8080/"
        },
        "id": "P-ZgZOtpFCVe",
        "outputId": "8df127f7-bbe8-4735-d35a-0db6616dcb29"
      },
      "execution_count": 127,
      "outputs": [
        {
          "output_type": "execute_result",
          "data": {
            "text/plain": [
              "array([1])"
            ]
          },
          "metadata": {},
          "execution_count": 127
        }
      ]
    },
    {
      "cell_type": "code",
      "source": [
        "df.EmployeeNumber.unique()"
      ],
      "metadata": {
        "colab": {
          "base_uri": "https://localhost:8080/"
        },
        "id": "7haHebPiFFju",
        "outputId": "e6c63619-af74-47ef-fe87-ead96c01725f"
      },
      "execution_count": 128,
      "outputs": [
        {
          "output_type": "execute_result",
          "data": {
            "text/plain": [
              "array([   1,    2,    4, ..., 2064, 2065, 2068])"
            ]
          },
          "metadata": {},
          "execution_count": 128
        }
      ]
    },
    {
      "cell_type": "code",
      "source": [
        "df.EnvironmentSatisfaction.unique()"
      ],
      "metadata": {
        "colab": {
          "base_uri": "https://localhost:8080/"
        },
        "id": "O7EwNBSYFHfz",
        "outputId": "21e9c56a-77e2-43fe-d26a-a1c005bc6a3c"
      },
      "execution_count": 129,
      "outputs": [
        {
          "output_type": "execute_result",
          "data": {
            "text/plain": [
              "array([2, 3, 4, 1])"
            ]
          },
          "metadata": {},
          "execution_count": 129
        }
      ]
    },
    {
      "cell_type": "code",
      "source": [
        "df.Gender.unique()"
      ],
      "metadata": {
        "colab": {
          "base_uri": "https://localhost:8080/"
        },
        "id": "sFnnM6AMFJIp",
        "outputId": "f8d50b20-f49e-445d-cd2b-d141f0dc4319"
      },
      "execution_count": 130,
      "outputs": [
        {
          "output_type": "execute_result",
          "data": {
            "text/plain": [
              "array(['Female', nan], dtype=object)"
            ]
          },
          "metadata": {},
          "execution_count": 130
        }
      ]
    },
    {
      "cell_type": "code",
      "source": [
        "df.HourlyRate.unique()"
      ],
      "metadata": {
        "colab": {
          "base_uri": "https://localhost:8080/"
        },
        "id": "23M3bVSWFK6g",
        "outputId": "d541e5b5-5ba7-48ae-ee51-2364d22f9085"
      },
      "execution_count": 170,
      "outputs": [
        {
          "output_type": "execute_result",
          "data": {
            "text/plain": [
              "array([94, 61, 92, 56, 40, 79, 81, 67, 44, '94_', 84, 49, 31, 93, 50, 51,\n",
              "       80, 96, 78, 45, 82, 53, 83, 58, 72, 48, 42, 41, 86, 97, 75, 33, 37,\n",
              "       73, 98, 36, 47, 71, 30, 43, 99, 59, 95, 57, 76, 87, 66, 55, 32, 52,\n",
              "       70, 62, 64, 63, 60, 100, 46, 39, 77, 35, 91, 54, 34, 90, 65, 88,\n",
              "       85, 89, 68, 69, 74, 38], dtype=object)"
            ]
          },
          "metadata": {},
          "execution_count": 170
        }
      ]
    },
    {
      "cell_type": "code",
      "source": [
        "df.JobInvolvement.unique()"
      ],
      "metadata": {
        "colab": {
          "base_uri": "https://localhost:8080/"
        },
        "id": "aJiPoZ5PFMWM",
        "outputId": "2b3b34f8-6ff5-488e-bcc1-b4ac3ac35c2a"
      },
      "execution_count": 132,
      "outputs": [
        {
          "output_type": "execute_result",
          "data": {
            "text/plain": [
              "array([3, 2, 4, 1])"
            ]
          },
          "metadata": {},
          "execution_count": 132
        }
      ]
    },
    {
      "cell_type": "code",
      "source": [
        "df.JobLevel.unique()"
      ],
      "metadata": {
        "colab": {
          "base_uri": "https://localhost:8080/"
        },
        "id": "B0So9Db8FOHs",
        "outputId": "0264ebcd-7f81-445f-b086-464f1d85567d"
      },
      "execution_count": 133,
      "outputs": [
        {
          "output_type": "execute_result",
          "data": {
            "text/plain": [
              "array([2, 1, 3, 4, 5])"
            ]
          },
          "metadata": {},
          "execution_count": 133
        }
      ]
    },
    {
      "cell_type": "code",
      "source": [
        "df.JobRole.unique()"
      ],
      "metadata": {
        "colab": {
          "base_uri": "https://localhost:8080/"
        },
        "id": "s3jNC5eMFPsJ",
        "outputId": "b319f931-a6eb-4205-d7b3-7d43627b1f4f"
      },
      "execution_count": 134,
      "outputs": [
        {
          "output_type": "execute_result",
          "data": {
            "text/plain": [
              "array(['Sales Executive', 'Research Scientist', 'Laboratory Technician',\n",
              "       'Manufacturing Director', 'Healthcare Representative', 'Manager',\n",
              "       'Sales Representative', 'Research Director', 'Human Resources'],\n",
              "      dtype=object)"
            ]
          },
          "metadata": {},
          "execution_count": 134
        }
      ]
    },
    {
      "cell_type": "code",
      "source": [
        "df.JobSatisfaction.unique()"
      ],
      "metadata": {
        "colab": {
          "base_uri": "https://localhost:8080/"
        },
        "id": "MPsKB6h4FRaI",
        "outputId": "fdcc4c77-29d0-40d4-d332-ac54d3313d82"
      },
      "execution_count": 135,
      "outputs": [
        {
          "output_type": "execute_result",
          "data": {
            "text/plain": [
              "array([4, 2, 3, 1])"
            ]
          },
          "metadata": {},
          "execution_count": 135
        }
      ]
    },
    {
      "cell_type": "code",
      "source": [
        "df.MaritalStatus.unique()"
      ],
      "metadata": {
        "colab": {
          "base_uri": "https://localhost:8080/"
        },
        "id": "08mXoH7hFS2v",
        "outputId": "35003aee-f704-4dbe-97e0-5e7ced2939ef"
      },
      "execution_count": 136,
      "outputs": [
        {
          "output_type": "execute_result",
          "data": {
            "text/plain": [
              "array(['Single', 'Married', 'Divorced'], dtype=object)"
            ]
          },
          "metadata": {},
          "execution_count": 136
        }
      ]
    },
    {
      "cell_type": "code",
      "source": [
        "df.DailyRate.unique()"
      ],
      "metadata": {
        "colab": {
          "base_uri": "https://localhost:8080/"
        },
        "id": "aJfHH-zYFUfv",
        "outputId": "55afb5c6-893a-4ef7-aa63-a60f3cd56a37"
      },
      "execution_count": 137,
      "outputs": [
        {
          "output_type": "execute_result",
          "data": {
            "text/plain": [
              "array([752, 488, 736, 448, 320, 632, 648, 536, 352, 672, 392, 248, 744,\n",
              "       400, 408, 640, 768, 624, 360, 656, 424, 664, 464, 576, 384, 336,\n",
              "       328, 688, 776, 600, 264, 296, 584, 784, 288, 376, 568, 240, 344,\n",
              "       792, 472, 760, 456, 608, 696, 528, 440, 256, 416, 560, 496, 512,\n",
              "       504, 480, 800, 368, 312, 616, 280, 728, 432, 272, 720, 520, 704,\n",
              "       680, 712, 544, 552, 592, 304])"
            ]
          },
          "metadata": {},
          "execution_count": 137
        }
      ]
    },
    {
      "cell_type": "code",
      "source": [
        "df.WeeklyRate.unique()"
      ],
      "metadata": {
        "colab": {
          "base_uri": "https://localhost:8080/"
        },
        "id": "YwtGVvfMFV0K",
        "outputId": "f11807ce-617c-4dfc-f9d0-2f8e54c10e00"
      },
      "execution_count": 138,
      "outputs": [
        {
          "output_type": "execute_result",
          "data": {
            "text/plain": [
              "array([3760, 2440, 3680, 2240, 1600, 3160, 3240, 2680, 1760, 3360, 1960,\n",
              "       1240, 3720, 2000, 2040, 3200, 3840, 3120, 1800, 3280, 2120, 3320,\n",
              "       2320, 2880, 1920, 1680, 1640, 3440, 3880, 3000, 1320, 1480, 2920,\n",
              "       3920, 1440, 1880, 2840, 1200, 1720, 3960, 2360, 3800, 2280, 3040,\n",
              "       3480, 2640, 2200, 1280, 2080, 2800, 2480, 2560, 2520, 2400, 4000,\n",
              "       1840, 1560, 3080, 1400, 3640, 2160, 1360, 3600, 2600, 3520, 3400,\n",
              "       3560, 2720, 2760, 2960, 1520])"
            ]
          },
          "metadata": {},
          "execution_count": 138
        }
      ]
    },
    {
      "cell_type": "code",
      "source": [
        "df.YearlyRate.unique()"
      ],
      "metadata": {
        "colab": {
          "base_uri": "https://localhost:8080/"
        },
        "id": "EM9GPbXYFXKa",
        "outputId": "3a4bb2f8-0fb7-4020-b186-3c27307a82e9"
      },
      "execution_count": 139,
      "outputs": [
        {
          "output_type": "execute_result",
          "data": {
            "text/plain": [
              "array([195520, 126880, 191360, 116480,  83200, 164320, 168480, 139360,\n",
              "        91520, 174720, 101920,  64480, 193440, 104000, 106080, 166400,\n",
              "       199680, 162240,  93600, 170560, 110240, 172640, 120640, 149760,\n",
              "        99840,  87360,  85280, 178880, 201760, 156000,  68640,  76960,\n",
              "       151840, 203840,  74880,  97760, 147680,  62400,  89440, 205920,\n",
              "       122720, 197600, 118560, 158080, 180960, 137280, 114400,  66560,\n",
              "       108160, 145600, 128960, 133120, 131040, 124800, 208000,  95680,\n",
              "        81120, 160160,  72800, 189280, 112320,  70720, 187200, 135200,\n",
              "       183040, 176800, 185120, 141440, 143520, 153920,  79040])"
            ]
          },
          "metadata": {},
          "execution_count": 139
        }
      ]
    },
    {
      "cell_type": "code",
      "source": [
        "df.NumCompaniesWorked.unique()"
      ],
      "metadata": {
        "colab": {
          "base_uri": "https://localhost:8080/"
        },
        "id": "uJHe0vZWFbQt",
        "outputId": "cdc0d844-24cc-42bd-e87d-13c00a6e6145"
      },
      "execution_count": 140,
      "outputs": [
        {
          "output_type": "execute_result",
          "data": {
            "text/plain": [
              "array([8, 1, 6, 9, 0, 4, 5, 2, 7, 3])"
            ]
          },
          "metadata": {},
          "execution_count": 140
        }
      ]
    },
    {
      "cell_type": "code",
      "source": [
        "df.Over18.unique()"
      ],
      "metadata": {
        "colab": {
          "base_uri": "https://localhost:8080/"
        },
        "id": "MB43BDKWFdA3",
        "outputId": "351d0fec-77f3-4649-ea9c-d7e4604c6748"
      },
      "execution_count": 141,
      "outputs": [
        {
          "output_type": "execute_result",
          "data": {
            "text/plain": [
              "array(['Y'], dtype=object)"
            ]
          },
          "metadata": {},
          "execution_count": 141
        }
      ]
    },
    {
      "cell_type": "code",
      "source": [
        "df.OverTime.unique()"
      ],
      "metadata": {
        "colab": {
          "base_uri": "https://localhost:8080/"
        },
        "id": "O4FMKR-uFe2x",
        "outputId": "3eeaa78d-f282-41b5-b756-f61894a102bb"
      },
      "execution_count": 142,
      "outputs": [
        {
          "output_type": "execute_result",
          "data": {
            "text/plain": [
              "array(['Yes', 'No'], dtype=object)"
            ]
          },
          "metadata": {},
          "execution_count": 142
        }
      ]
    },
    {
      "cell_type": "code",
      "source": [
        "df.PercentSalaryHike.unique()"
      ],
      "metadata": {
        "colab": {
          "base_uri": "https://localhost:8080/"
        },
        "id": "irYYz_REFhR0",
        "outputId": "3a2fcba3-e7f9-4cc6-8dd7-99911cd91d93"
      },
      "execution_count": 143,
      "outputs": [
        {
          "output_type": "execute_result",
          "data": {
            "text/plain": [
              "array([11, 23, 15, 12, 13, 20, 22, 21, 17, 14, 16, 18, 19, 24, 25])"
            ]
          },
          "metadata": {},
          "execution_count": 143
        }
      ]
    },
    {
      "cell_type": "code",
      "source": [
        "df.PerformanceRating.unique()"
      ],
      "metadata": {
        "colab": {
          "base_uri": "https://localhost:8080/"
        },
        "id": "MVf-A9TcFiy-",
        "outputId": "75249df6-c202-4758-e197-e4193fab0533"
      },
      "execution_count": 144,
      "outputs": [
        {
          "output_type": "execute_result",
          "data": {
            "text/plain": [
              "array([3, 4])"
            ]
          },
          "metadata": {},
          "execution_count": 144
        }
      ]
    },
    {
      "cell_type": "code",
      "source": [
        "df.RelationshipSatisfaction.unique()"
      ],
      "metadata": {
        "colab": {
          "base_uri": "https://localhost:8080/"
        },
        "id": "hcsxk_mSFkUQ",
        "outputId": "6732da2c-7158-4131-9f48-7dfc5d9b75f0"
      },
      "execution_count": 145,
      "outputs": [
        {
          "output_type": "execute_result",
          "data": {
            "text/plain": [
              "array([1, 4, 2, 3])"
            ]
          },
          "metadata": {},
          "execution_count": 145
        }
      ]
    },
    {
      "cell_type": "code",
      "source": [
        "df.StandardHours.unique()"
      ],
      "metadata": {
        "colab": {
          "base_uri": "https://localhost:8080/"
        },
        "id": "rQB6jNw8Flyp",
        "outputId": "b88d612f-a90a-4ebd-ead4-94d008b16f31"
      },
      "execution_count": 146,
      "outputs": [
        {
          "output_type": "execute_result",
          "data": {
            "text/plain": [
              "array([80])"
            ]
          },
          "metadata": {},
          "execution_count": 146
        }
      ]
    },
    {
      "cell_type": "code",
      "source": [
        "df.StockOptionLevel.unique()"
      ],
      "metadata": {
        "colab": {
          "base_uri": "https://localhost:8080/"
        },
        "id": "UvegIqoXFnbx",
        "outputId": "6dc0935d-9d35-4da4-d572-05cac996ef48"
      },
      "execution_count": 147,
      "outputs": [
        {
          "output_type": "execute_result",
          "data": {
            "text/plain": [
              "array([0, 1, 3, 2])"
            ]
          },
          "metadata": {},
          "execution_count": 147
        }
      ]
    },
    {
      "cell_type": "code",
      "source": [
        "df.TotalWorkingYears.unique()"
      ],
      "metadata": {
        "colab": {
          "base_uri": "https://localhost:8080/"
        },
        "id": "xy9kKan_Fo87",
        "outputId": "01c6715a-801c-4d71-d75f-0bf3789dc3f1"
      },
      "execution_count": 148,
      "outputs": [
        {
          "output_type": "execute_result",
          "data": {
            "text/plain": [
              "array([ 8, 10,  7,  6, 12,  1, 17,  5,  3, 31, 13,  0, 26, 24, 22,  9, 19,\n",
              "        2, 23, 14, 15,  4, 29, 28, 21, 25, 20, 11, 16, 37, 38, 30, 40, 18,\n",
              "       36, 34, 32, 33, 35, 27])"
            ]
          },
          "metadata": {},
          "execution_count": 148
        }
      ]
    },
    {
      "cell_type": "code",
      "source": [
        "df.TrainingTimesLastYear.unique()"
      ],
      "metadata": {
        "colab": {
          "base_uri": "https://localhost:8080/"
        },
        "id": "V4r9zQK_Fqk5",
        "outputId": "223d9bf1-85f6-498e-eb7e-4403d0e2f0ae"
      },
      "execution_count": 149,
      "outputs": [
        {
          "output_type": "execute_result",
          "data": {
            "text/plain": [
              "array([0, 3, 2, 5, 1, 4, 6])"
            ]
          },
          "metadata": {},
          "execution_count": 149
        }
      ]
    },
    {
      "cell_type": "code",
      "source": [
        "df.WorkLifeBalance.unique()"
      ],
      "metadata": {
        "colab": {
          "base_uri": "https://localhost:8080/"
        },
        "id": "KruPgKo0FsV_",
        "outputId": "554b1516-70cc-49b5-ffda-b16fff4ba652"
      },
      "execution_count": 150,
      "outputs": [
        {
          "output_type": "execute_result",
          "data": {
            "text/plain": [
              "array([1, 3, 2, 4])"
            ]
          },
          "metadata": {},
          "execution_count": 150
        }
      ]
    },
    {
      "cell_type": "code",
      "source": [
        "df.YearsAtCompany.unique()"
      ],
      "metadata": {
        "colab": {
          "base_uri": "https://localhost:8080/"
        },
        "id": "DZ3lcgzGFuHh",
        "outputId": "4ab61739-27be-41bf-b679-6073254b6510"
      },
      "execution_count": 151,
      "outputs": [
        {
          "output_type": "execute_result",
          "data": {
            "text/plain": [
              "array([6, 10, 0, 8, 2, 7, 1, 9, 5, 4, 25, 3, 12, 14, 22, '5!', 15, 27, 21,\n",
              "       17, 11, 13, 37, 16, 20, 40, 24, 33, 19, 36, 18, 29, 31, 32, 34, 26,\n",
              "       30, 23], dtype=object)"
            ]
          },
          "metadata": {},
          "execution_count": 151
        }
      ]
    },
    {
      "cell_type": "code",
      "source": [
        "df_sin_inapropiados = df[df['Age'] <= 90]"
      ],
      "metadata": {
        "id": "wZJRrSgDJ_ML"
      },
      "execution_count": 172,
      "outputs": []
    },
    {
      "cell_type": "code",
      "source": [
        "df['Age'] = df['Age'].apply(lambda x: x if x <= 120 else None)"
      ],
      "metadata": {
        "id": "SK1xoVUaKHKn"
      },
      "execution_count": 173,
      "outputs": []
    },
    {
      "cell_type": "markdown",
      "source": [
        "Ahora, vamos a reemplazar y mostrar información sobre el df después de tratar los puntos de datos inapropiados"
      ],
      "metadata": {
        "id": "xKCHpdv2KXws"
      }
    },
    {
      "cell_type": "code",
      "source": [
        "print(\"Información sobre el DataFrame después de tratar los puntos de datos inapropiados:\")\n",
        "print(df_sin_inapropiados.info())"
      ],
      "metadata": {
        "colab": {
          "base_uri": "https://localhost:8080/"
        },
        "id": "N7moXq9EKOPh",
        "outputId": "bc50e892-0a8c-4f71-d09f-8fec0c7fedfd"
      },
      "execution_count": 174,
      "outputs": [
        {
          "output_type": "stream",
          "name": "stdout",
          "text": [
            "Información sobre el DataFrame después de tratar los puntos de datos inapropiados:\n",
            "<class 'pandas.core.frame.DataFrame'>\n",
            "Index: 1474 entries, 0 to 1474\n",
            "Data columns (total 35 columns):\n",
            " #   Column                    Non-Null Count  Dtype \n",
            "---  ------                    --------------  ----- \n",
            " 0   Age                       1474 non-null   int64 \n",
            " 1   Attrition                 1474 non-null   object\n",
            " 2   BusinessTravel            1474 non-null   object\n",
            " 3   Department                1474 non-null   object\n",
            " 4   DistanceFromHome          1474 non-null   int64 \n",
            " 5   Education                 1474 non-null   int64 \n",
            " 6   EducationField            1474 non-null   object\n",
            " 7   EmployeeCount             1474 non-null   int64 \n",
            " 8   EmployeeNumber            1474 non-null   int64 \n",
            " 9   EnvironmentSatisfaction   1474 non-null   int64 \n",
            " 10  Gender                    590 non-null    object\n",
            " 11  HourlyRate                1474 non-null   object\n",
            " 12  JobInvolvement            1474 non-null   int64 \n",
            " 13  JobLevel                  1474 non-null   int64 \n",
            " 14  JobRole                   1474 non-null   object\n",
            " 15  JobSatisfaction           1474 non-null   int64 \n",
            " 16  MaritalStatus             1474 non-null   object\n",
            " 17  DailyRate                 1474 non-null   int64 \n",
            " 18  WeeklyRate                1474 non-null   int64 \n",
            " 19  YearlyRate                1474 non-null   int64 \n",
            " 20  NumCompaniesWorked        1474 non-null   int64 \n",
            " 21  Over18                    1474 non-null   object\n",
            " 22  OverTime                  1474 non-null   object\n",
            " 23  PercentSalaryHike         1474 non-null   int64 \n",
            " 24  PerformanceRating         1474 non-null   int64 \n",
            " 25  RelationshipSatisfaction  1474 non-null   int64 \n",
            " 26  StandardHours             1474 non-null   int64 \n",
            " 27  StockOptionLevel          1474 non-null   int64 \n",
            " 28  TotalWorkingYears         1474 non-null   int64 \n",
            " 29  TrainingTimesLastYear     1474 non-null   int64 \n",
            " 30  WorkLifeBalance           1474 non-null   int64 \n",
            " 31  YearsAtCompany            1474 non-null   object\n",
            " 32  YearsInCurrentRole        1474 non-null   int64 \n",
            " 33  YearsSinceLastPromotion   1474 non-null   int64 \n",
            " 34  YearsWithCurrManager      1474 non-null   int64 \n",
            "dtypes: int64(24), object(11)\n",
            "memory usage: 414.6+ KB\n",
            "None\n"
          ]
        }
      ]
    },
    {
      "cell_type": "markdown",
      "source": [
        "##2- El siguiente paso es completar una exploración basada en los datos usando Python. Esto debería incluir:"
      ],
      "metadata": {
        "id": "Y58ZFFgkQzFd"
      }
    },
    {
      "cell_type": "markdown",
      "source": [
        "2.A- 1) Dos tipos diferentes de visualizaciones exploratorias univariadas."
      ],
      "metadata": {
        "id": "PrICfgnOQta1"
      }
    },
    {
      "cell_type": "code",
      "source": [
        "#import matplotlib.pyplot as plt\n",
        "#import pandas as pd\n",
        "\n",
        "# Cargar los datos (reemplazar el archivo pandas con la ruta de tu archivo)\n",
        "\n",
        "# Visualización del histograma de una variable (por ejemplo, la Age)\n",
        "plt.hist(df['Age'], bins=20, color='skyblue', edgecolor='black')\n",
        "plt.title('Distribución de Edades')\n",
        "plt.xlabel('Edad')\n",
        "plt.ylabel('Frecuencia')\n",
        "plt.show()"
      ],
      "metadata": {
        "colab": {
          "base_uri": "https://localhost:8080/",
          "height": 472
        },
        "id": "kWw4SrW3Q7cA",
        "outputId": "14b00356-331d-4d5b-e2ae-e852b5a3a70c"
      },
      "execution_count": 179,
      "outputs": [
        {
          "output_type": "display_data",
          "data": {
            "text/plain": [
              "<Figure size 640x480 with 1 Axes>"
            ],
            "image/png": "[encoded data removed]"
          },
          "metadata": {}
        }
      ]
    },
    {
      "cell_type": "markdown",
      "source": [
        "2.A -2) Cada visualización debe incluir una breve interpretación dentro del archivo de código."
      ],
      "metadata": {
        "id": "BOezAL79RKOr"
      }
    },
    {
      "cell_type": "markdown",
      "source": [
        "2.B -1) Dos tipos diferentes de visualizaciones exploratorias multivariadas."
      ],
      "metadata": {
        "id": "XrB9RTd8Qga3"
      }
    },
    {
      "cell_type": "code",
      "source": [
        "import matplotlib.pyplot as plt  #en esta parte me ayude con La herramienta ChatGpt \"No supe como conectar la libreria seaborn\"\n",
        "import seaborn as sns\n",
        "import pandas as pd\n",
        "\n",
        "\n",
        "# Visualización del diagrama de dispersión con codificación de colores (por ejemplo, edad vs. ingresos)\n",
        "plt.figure(figsize=(10, 6))\n",
        "sns.scatterplot(x='Age', y='Over18', hue='Gender', data=df, palette='Set1')\n",
        "plt.title('Diagrama de Dispersión de Edad vs. Generos')\n",
        "plt.xlabel('Age')\n",
        "plt.ylabel('Over18')\n",
        "plt.legend(title='Gender')\n",
        "plt.show()"
      ],
      "metadata": {
        "colab": {
          "base_uri": "https://localhost:8080/",
          "height": 565
        },
        "id": "tLZ6a7O7PeBD",
        "outputId": "0a0bb2f0-8a1d-47fd-d475-bc590eced2af"
      },
      "execution_count": 178,
      "outputs": [
        {
          "output_type": "display_data",
          "data": {
            "text/plain": [
              "<Figure size 1000x600 with 1 Axes>"
            ],
            "image/png": "[encoded data removed]"
          },
          "metadata": {}
        }
      ]
    },
    {
      "cell_type": "markdown",
      "source": [
        "2.B -2) Cada visualización debe incluir una breve interpretación dentro del archivo de código"
      ],
      "metadata": {
        "id": "rcKbDx_SRWXm"
      }
    }
  ]
}